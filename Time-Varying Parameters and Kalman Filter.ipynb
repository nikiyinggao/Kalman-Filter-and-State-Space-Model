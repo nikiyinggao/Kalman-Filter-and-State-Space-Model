{
 "cells": [
  {
   "cell_type": "code",
   "execution_count": 77,
   "metadata": {},
   "outputs": [],
   "source": [
    "import copy as cp\n",
    "import math as mt\n",
    "import numpy as np\n",
    "import scipy as sc\n",
    "import pandas as pd\n",
    "\n",
    "def rmat(nr,nc): return(np.matrix(np.random.rand(nr,nc)))\n",
    "def hey(s): \n",
    "    from scipy.sparse import triu\n",
    "    return np.matrix(triu(rmat(s,s)).toarray())\n",
    "\n",
    "class parameters:\n",
    "    def __init__(self,size):\n",
    "        self.size=size\n",
    "        self.mu=np.matrix(np.zeros((size,1)))\n",
    "        self.F=np.matrix(np.zeros((size,size)))\n",
    "        self.Q=np.matrix(np.zeros((size,size)))\n",
    "        self.R=np.matrix(np.zeros((1,1)))\n",
    "        self.beta00=np.matrix(np.zeros((size,1)))\n",
    "        self.P00=np.matrix(np.zeros((size,size)))\n",
    "    def randomize(self):\n",
    "        s=self.size\n",
    "        self.mu=rmat(s,1)\n",
    "        self.F=rmat(s,s)\n",
    "        Q=hey(s)\n",
    "        self.Q=Q.transpose()*Q\n",
    "        self.R=rmat(1,1)\n",
    "        self.beta00=rmat(s,1)\n",
    "        P=hey(s)\n",
    "        self.P00=P.transpose()*P\n",
    "\n",
    "class thedata:\n",
    "    def __init__(self,size):\n",
    "        self.y=np.matrix(np.zeros((1,1)))\n",
    "        self.x=np.matrix(np.zeros((1,size)))\n",
    "\n",
    "class a_filter:\n",
    "    def __init__(self,thefile):\n",
    "        data=pd.read_csv(thefile)\n",
    "        \n",
    "        nr,nc=np.shape(data)\n",
    "        nx=nc-1\n",
    "        self.intercept=False\n",
    "        response=input('Please enter \"No\" if you do not want an intercept:')\n",
    "        if (response!=\"No\"):\n",
    "            nx=nx+1\n",
    "            self.intercept=True\n",
    "        self.size=nx\n",
    "        self.T=nr  \n",
    "        self.parameters=parameters(self.size)\n",
    "        self.obs=[]\n",
    "        for t in range(self.T):\n",
    "            newobs=an_obs(t,self)\n",
    "            y=np.matrix(data.iloc[t,0])\n",
    "            x=np.matrix(data.iloc[t,1:])\n",
    "            if self.intercept:x=np.concatenate((np.matrix(1),x),axis =1)\n",
    "            newobs.data.y=y\n",
    "            newobs.data.x=x\n",
    "            self.obs=self.obs+[newobs]\n",
    "            \n",
    "    def run(self):\n",
    "        for t in range(self.T):\n",
    "            self.obs[t].predict()\n",
    "            self.obs[t].update()               \n",
    "\n",
    "class an_obs:\n",
    "    def __init__(self,t,fltr):\n",
    "        self.fltr=fltr\n",
    "        self.t=t\n",
    "        size=self.fltr.size\n",
    "        self.data=thedata(size)\n",
    "        self.prediction=predictions(size)\n",
    "        self.updating=updating(size)\n",
    "        \n",
    "    def predict(self):\n",
    "        if self.t == 0: \n",
    "            b00=self.fltr.parameters.beta00\n",
    "            P00=self.fltr.parameters.P00\n",
    "        else: \n",
    "            b00=self.fltr.obs[self.t-1].updating.beta\n",
    "            P00=self.fltr.obs[self.t-1].updating.P\n",
    "        F = self.fltr.parameters.F\n",
    "        x = self.data.x\n",
    "        self.prediction.beta=self.fltr.parameters.mu+F*b00\n",
    "        self.prediction.P=F*P00*np.transpose(F)+self.fltr.parameters.Q\n",
    "        self.prediction.eta=self.data.y-self.data.x*self.prediction.beta\n",
    "        self.prediction.f=x*self.prediction.P*x.transpose()+self.fltr.parameters.R\n",
    "        \n",
    "    def update(self):\n",
    "        P=self.prediction.P\n",
    "        x=self.data.x\n",
    "        K=P*x.transpose()*np.linalg.inv(self.prediction.f)\n",
    "        self.updating.K=K\n",
    "        self.updating.beta=self.prediction.beta+K*self.prediction.eta\n",
    "        self.updating.P=P-K*x*P\n",
    "\n",
    "class predictions:\n",
    "    def __init__(self,size):\n",
    "        self.beta=np.matrix(np.zeros((size,1)))\n",
    "        self.P=np.matrix(np.zeros((size,size)))\n",
    "        self.eta=np.matrix(np.zeros((1,1)))\n",
    "        self.f=np.matrix(np.zeros((1,1)))\n",
    "\n",
    "class updating:\n",
    "    def __init__(self,size):\n",
    "        self.beta=np.matrix(np.zeros((size,1)))\n",
    "        self.P=np.matrix(np.zeros((size,size)))\n",
    "        self.K=np.matrix(np.zeros((size,1)))      "
   ]
  },
  {
   "cell_type": "code",
   "execution_count": 78,
   "metadata": {},
   "outputs": [
    {
     "name": "stdout",
     "output_type": "stream",
     "text": [
      "Please enter \"No\" if you do not want an intercept:yes\n"
     ]
    }
   ],
   "source": [
    "ibm_model = a_filter('IBM.csv')"
   ]
  },
  {
   "cell_type": "code",
   "execution_count": 79,
   "metadata": {
    "scrolled": true
   },
   "outputs": [
    {
     "data": {
      "text/plain": [
       "matrix([[ 1.    , -0.0284, -0.0083, -0.0323]])"
      ]
     },
     "execution_count": 79,
     "metadata": {},
     "output_type": "execute_result"
    }
   ],
   "source": [
    "ibm_model.obs[7].data.x"
   ]
  },
  {
   "cell_type": "code",
   "execution_count": 80,
   "metadata": {},
   "outputs": [],
   "source": [
    "ibm_model.parameters.randomize()"
   ]
  },
  {
   "cell_type": "code",
   "execution_count": 81,
   "metadata": {
    "scrolled": false
   },
   "outputs": [],
   "source": [
    "ibm_model.run()"
   ]
  },
  {
   "cell_type": "code",
   "execution_count": 82,
   "metadata": {},
   "outputs": [
    {
     "data": {
      "text/plain": [
       "matrix([[1.6107408 , 2.27072516, 1.4324167 , 3.50405617],\n",
       "        [2.27072516, 4.02790027, 2.62157492, 5.29515203],\n",
       "        [1.4324167 , 2.62157492, 2.15576761, 3.87914467],\n",
       "        [3.50405617, 5.29515203, 3.87914467, 9.41601813]])"
      ]
     },
     "execution_count": 82,
     "metadata": {},
     "output_type": "execute_result"
    }
   ],
   "source": [
    "ibm_model.obs[7].prediction.P"
   ]
  }
 ],
 "metadata": {
  "kernelspec": {
   "display_name": "Python 3",
   "language": "python",
   "name": "python3"
  },
  "language_info": {
   "codemirror_mode": {
    "name": "ipython",
    "version": 3
   },
   "file_extension": ".py",
   "mimetype": "text/x-python",
   "name": "python",
   "nbconvert_exporter": "python",
   "pygments_lexer": "ipython3",
   "version": "3.6.5"
  }
 },
 "nbformat": 4,
 "nbformat_minor": 2
}
