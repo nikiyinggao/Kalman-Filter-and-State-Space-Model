{
 "cells": [
  {
   "cell_type": "code",
   "execution_count": 43,
   "metadata": {},
   "outputs": [],
   "source": [
    "import copy as cp\n",
    "import math as mt\n",
    "import numpy as np\n",
    "import pandas as pd\n",
    "\n",
    "def rmat(nr,nc): return(np.matrix(np.random.rand(nr,nc)))\n",
    "\n",
    "def hey(s):\n",
    "    from scipy.sparse import triu\n",
    "    return np.matrix(triu(rmat(s,s)).toarray())\n",
    "    \n",
    "\n",
    "class parameters:\n",
    "    def __init__(self,size):\n",
    "        self.size = size\n",
    "        self.mu = np.matrix(np.zeros((size,1)))\n",
    "        self.F = np.matrix(np.zeros((size,size)))\n",
    "        self.Q = np.matrix(np.zeros((size,size)))\n",
    "        self.R = np.matrix(np.zeros((1,1)))\n",
    "        self.beta00 = np.matrix(np.zeros((size,1)))\n",
    "        self.P00 = np.matrix(np.zeros((size,size)))\n",
    "        self.parnames = list(self.__dict__.keys())\n",
    "        self.parnames.remove('size')\n",
    "        self.parnames.sort()\n",
    "        \n",
    "    def pack(self):\n",
    "        p = np.matrix(np.zeros((0,1)))\n",
    "        for aname in parnames:\n",
    "            mtrx = getattr(ibm_model.parameters,aname)\n",
    "            newmtrx = np.reshape(mtrx,(-1,1),order='F')\n",
    "            p = np.concatenate((p,newmtrx),axis=0)\n",
    "        return(p)\n",
    "    \n",
    "    def unpack(self,p):\n",
    "        pos = 0\n",
    "        for aname in self.parnames:\n",
    "            mtrx = getattr(self,aname)\n",
    "            nr,nc = np.shape(mtrx)\n",
    "            newpos = pos + nr*nc\n",
    "            subp = np.matrix(p[pos:newpos])\n",
    "            mtrx = np.reshape(subp,(nr,nc),order='F')\n",
    "            setattr(self,aname,mtrx)\n",
    "            pos = cp.copy(newpos)\n",
    "            \n",
    "        \n",
    "    def randomize(self):\n",
    "        s = self.size\n",
    "        self.mu = rmat(s,1)\n",
    "        self.F = rmat(s,s)\n",
    "        Q = 上三角(s)\n",
    "        self.Q = Q.transpose()*Q\n",
    "        self.R = rmat(1,1)\n",
    "        self.beta00 = rmat(s,1)\n",
    "        P = 上三角(s)\n",
    "        self.P00 = P.transpose()*P\n",
    "        \n",
    "        \n",
    "class thedata:\n",
    "    def __init__(self,size):\n",
    "        self.y = np.matrix(np.zeros((1,1)))\n",
    "        self.x = np.matrix(np.zeros((1,size)))\n",
    "        \n",
    "class predictions:\n",
    "    def __init__(self,size):\n",
    "        self.beta = np.matrix(np.zeros((size,1)))\n",
    "        self.P = np.matrix(np.zeros((size,size)))\n",
    "        self.eta = np.matrix(np.zeros((1,1)))\n",
    "        self.f = np.matrix(np.zeros((1,1)))\n",
    "        \n",
    "class updating:\n",
    "    def __init__(self,size):\n",
    "        self.beta = np.matrix(np.zeros((size,1)))\n",
    "        self.P = np.matrix(np.zeros((size,size)))\n",
    "        self.K = np.matrix(np.zeros((size,1)))\n",
    "        \n",
    "class an_obs:\n",
    "    def __init__(self,t,fltr):\n",
    "        self.t = t\n",
    "        self.fltr = fltr\n",
    "        size = self.fltr.size\n",
    "        self.data = thedata(size)\n",
    "        self.prediction = predictions(size)\n",
    "        self.updating = updating(size)\n",
    "    def predict(self):\n",
    "        if self.t == 0: \n",
    "            b00 = self.fltr.parameters.beta00\n",
    "            P00 = self.fltr.parameters.P00\n",
    "        else: \n",
    "            b00 = self.fltr.obs[self.t-1].updating.beta\n",
    "            P00 = self.fltr.obs[self.t-1].updating.P\n",
    "        F = self.fltr.parameters.F\n",
    "        x = self.data.x\n",
    "        self.prediction.beta = self.fltr.parameters.mu+F*b00\n",
    "        self.prediction.P = F*P00*F.transpose()+self.fltr.parameters.Q\n",
    "        eta = self.data.y - x*self.prediction.beta\n",
    "        f = x*self.prediction.P*x.transpose()+self.fltr.parameters.R\n",
    "        self.prediction.eta = eta\n",
    "        self.prediction.f = f\n",
    "        self.ll = mt.log(2*mt.pi*f) +eta.transpose()*np.linalg.inv(f)*eta\n",
    "    def update(self):\n",
    "        P = self.prediction.P\n",
    "        x = self.data.x\n",
    "        K = P*x.transpose()*np.linalg.inv(self.prediction.f)\n",
    "        self.updating.K = K\n",
    "        self.updating.beta = self.prediction.beta + K*self.prediction.eta\n",
    "        self.updating.P = P - K*x*P\n",
    "\n",
    "class a_filter:\n",
    "    def __init__(self,thefile):\n",
    "        data = pd.read_csv(thefile)\n",
    "        nr,nc = np.shape(data)\n",
    "        nx = nc-1\n",
    "        self.intercept = False\n",
    "        response = input ('Please enter \"NO\" if you do not want an intercept:')\n",
    "        if (response != \"NO\"):\n",
    "            nx = nx+1\n",
    "            self.intercept=True\n",
    "        self.size = nx\n",
    "        self.T = nr\n",
    "        self.parameters = parameters(self.size)\n",
    "        self.obs =[]\n",
    "        for t in range(self.T):\n",
    "            newobs = an_obs(t,self)\n",
    "            x = np.matrix(data.iloc[t,1:])\n",
    "            y = np.matrix(data.iloc[t,0])\n",
    "            if self.intercept:\n",
    "                x = np.concatenate((np.matrix(1),x),axis=1)\n",
    "            newobs.data.y = y\n",
    "            newobs.data.x = x\n",
    "            self.obs = self.obs + [newobs]\n",
    "            \n",
    "    def run(self):\n",
    "        self.ll = 0\n",
    "        for t in range(self.T):\n",
    "            self.obs[t].predict()\n",
    "            self.obs[t].update()\n",
    "            self.ll = self.ll + self.obs[t].ll\n",
    "        self.ll = -0.5*self.ll\n",
    "            \n",
    "            "
   ]
  },
  {
   "cell_type": "code",
   "execution_count": 44,
   "metadata": {},
   "outputs": [
    {
     "name": "stdout",
     "output_type": "stream",
     "text": [
      "Please enter \"NO\" if you do not want an intercept:\n"
     ]
    }
   ],
   "source": [
    "ibm_model = a_filter('IBM.csv')\n",
    "ibm_model.parameters.randomize()\n",
    "p = ibm_model.parameters.pack()"
   ]
  },
  {
   "cell_type": "code",
   "execution_count": 48,
   "metadata": {},
   "outputs": [],
   "source": [
    "newparameters=parameters(4)"
   ]
  },
  {
   "cell_type": "code",
   "execution_count": 49,
   "metadata": {},
   "outputs": [
    {
     "data": {
      "text/plain": [
       "{'size': 4, 'mu': matrix([[0.],\n",
       "         [0.],\n",
       "         [0.],\n",
       "         [0.]]), 'F': matrix([[0., 0., 0., 0.],\n",
       "         [0., 0., 0., 0.],\n",
       "         [0., 0., 0., 0.],\n",
       "         [0., 0., 0., 0.]]), 'Q': matrix([[0., 0., 0., 0.],\n",
       "         [0., 0., 0., 0.],\n",
       "         [0., 0., 0., 0.],\n",
       "         [0., 0., 0., 0.]]), 'R': matrix([[0.]]), 'beta00': matrix([[0.],\n",
       "         [0.],\n",
       "         [0.],\n",
       "         [0.]]), 'P00': matrix([[0., 0., 0., 0.],\n",
       "         [0., 0., 0., 0.],\n",
       "         [0., 0., 0., 0.],\n",
       "         [0., 0., 0., 0.]]), 'parnames': ['F',\n",
       "  'P00',\n",
       "  'Q',\n",
       "  'R',\n",
       "  'beta00',\n",
       "  'mu']}"
      ]
     },
     "execution_count": 49,
     "metadata": {},
     "output_type": "execute_result"
    }
   ],
   "source": [
    "newparameters.__dict__"
   ]
  },
  {
   "cell_type": "code",
   "execution_count": 50,
   "metadata": {},
   "outputs": [],
   "source": [
    "newparameters.unpack(p)"
   ]
  },
  {
   "cell_type": "code",
   "execution_count": 51,
   "metadata": {},
   "outputs": [
    {
     "data": {
      "text/plain": [
       "matrix([[0.66685526, 0.24404427, 0.68145512, 0.28858908],\n",
       "        [0.09828899, 0.92989951, 0.12507959, 0.20320343],\n",
       "        [0.38116914, 0.64128889, 0.8430657 , 0.42192508],\n",
       "        [0.06297519, 0.52505803, 0.16832111, 0.37130485]])"
      ]
     },
     "execution_count": 51,
     "metadata": {},
     "output_type": "execute_result"
    }
   ],
   "source": [
    "newparameters.F"
   ]
  },
  {
   "cell_type": "code",
   "execution_count": 52,
   "metadata": {},
   "outputs": [
    {
     "data": {
      "text/plain": [
       "matrix([[0.66685526, 0.24404427, 0.68145512, 0.28858908],\n",
       "        [0.09828899, 0.92989951, 0.12507959, 0.20320343],\n",
       "        [0.38116914, 0.64128889, 0.8430657 , 0.42192508],\n",
       "        [0.06297519, 0.52505803, 0.16832111, 0.37130485]])"
      ]
     },
     "execution_count": 52,
     "metadata": {},
     "output_type": "execute_result"
    }
   ],
   "source": [
    "ibm_model.parameters.F"
   ]
  },
  {
   "cell_type": "code",
   "execution_count": 53,
   "metadata": {},
   "outputs": [
    {
     "data": {
      "text/plain": [
       "matrix([[0.10490709, 0.00486151, 0.2378881 , 0.05658843],\n",
       "        [0.00486151, 0.01818698, 0.04360193, 0.10397398],\n",
       "        [0.2378881 , 0.04360193, 1.57470871, 0.57665979],\n",
       "        [0.05658843, 0.10397398, 0.57665979, 0.77255463]])"
      ]
     },
     "execution_count": 53,
     "metadata": {},
     "output_type": "execute_result"
    }
   ],
   "source": [
    "newparameters.Q"
   ]
  },
  {
   "cell_type": "code",
   "execution_count": 54,
   "metadata": {},
   "outputs": [
    {
     "data": {
      "text/plain": [
       "matrix([[0.10490709, 0.00486151, 0.2378881 , 0.05658843],\n",
       "        [0.00486151, 0.01818698, 0.04360193, 0.10397398],\n",
       "        [0.2378881 , 0.04360193, 1.57470871, 0.57665979],\n",
       "        [0.05658843, 0.10397398, 0.57665979, 0.77255463]])"
      ]
     },
     "execution_count": 54,
     "metadata": {},
     "output_type": "execute_result"
    }
   ],
   "source": [
    "ibm_model.parameters.Q"
   ]
  },
  {
   "cell_type": "code",
   "execution_count": 34,
   "metadata": {},
   "outputs": [
    {
     "name": "stdout",
     "output_type": "stream",
     "text": [
      "Please enter \"NO\" if you do not want an intercept:Yes\n"
     ]
    }
   ],
   "source": [
    "ibm_model = a_filter('IBM.csv')"
   ]
  },
  {
   "cell_type": "code",
   "execution_count": 35,
   "metadata": {},
   "outputs": [
    {
     "data": {
      "text/plain": [
       "matrix([[ 1.    , -0.0284, -0.0083, -0.0323]])"
      ]
     },
     "execution_count": 35,
     "metadata": {},
     "output_type": "execute_result"
    }
   ],
   "source": [
    "ibm_model.obs[7].data.x"
   ]
  },
  {
   "cell_type": "code",
   "execution_count": 36,
   "metadata": {},
   "outputs": [],
   "source": [
    "ibm_model.parameters.randomize()"
   ]
  },
  {
   "cell_type": "code",
   "execution_count": 37,
   "metadata": {},
   "outputs": [
    {
     "data": {
      "text/plain": [
       "matrix([[0.50825321],\n",
       "        [0.12328829],\n",
       "        [0.94122424],\n",
       "        [0.29218026],\n",
       "        [0.22146111],\n",
       "        [0.38031799],\n",
       "        [0.23362197],\n",
       "        [0.02514464],\n",
       "        [0.37920822],\n",
       "        [0.05743224],\n",
       "        [0.18457682],\n",
       "        [0.15231578],\n",
       "        [0.86789654],\n",
       "        [0.72934411],\n",
       "        [0.19310546],\n",
       "        [0.85493608],\n",
       "        [0.14990342],\n",
       "        [0.12493194],\n",
       "        [0.24908696],\n",
       "        [0.14218803],\n",
       "        [0.12493194],\n",
       "        [0.25831855],\n",
       "        [0.23370961],\n",
       "        [0.43741362],\n",
       "        [0.24908696],\n",
       "        [0.23370961],\n",
       "        [1.28114607],\n",
       "        [0.94117558],\n",
       "        [0.14218803],\n",
       "        [0.43741362],\n",
       "        [0.94117558],\n",
       "        [2.2806519 ],\n",
       "        [0.17418709],\n",
       "        [0.01972034],\n",
       "        [0.04452922],\n",
       "        [0.41329856],\n",
       "        [0.01972034],\n",
       "        [0.30309784],\n",
       "        [0.24314629],\n",
       "        [0.45958758],\n",
       "        [0.04452922],\n",
       "        [0.24314629],\n",
       "        [0.28405613],\n",
       "        [0.49725836],\n",
       "        [0.41329856],\n",
       "        [0.45958758],\n",
       "        [0.49725836],\n",
       "        [1.80549475],\n",
       "        [0.49674573],\n",
       "        [0.14266831],\n",
       "        [0.30490446],\n",
       "        [0.10078152],\n",
       "        [0.43744715],\n",
       "        [0.71521432],\n",
       "        [0.32458638],\n",
       "        [0.02742024],\n",
       "        [0.0677618 ]])"
      ]
     },
     "execution_count": 37,
     "metadata": {},
     "output_type": "execute_result"
    }
   ],
   "source": [
    "ibm_model.parameters.pack()"
   ]
  },
  {
   "cell_type": "code",
   "execution_count": 64,
   "metadata": {},
   "outputs": [
    {
     "data": {
      "text/plain": [
       "matrix([[0.]])"
      ]
     },
     "execution_count": 64,
     "metadata": {},
     "output_type": "execute_result"
    }
   ],
   "source": [
    "ibm_model.obs[7].prediction.f"
   ]
  },
  {
   "cell_type": "code",
   "execution_count": 6,
   "metadata": {},
   "outputs": [],
   "source": [
    "ibm_model.parameters.randomize()"
   ]
  },
  {
   "cell_type": "code",
   "execution_count": 7,
   "metadata": {},
   "outputs": [],
   "source": [
    "ibm_model.run()"
   ]
  },
  {
   "cell_type": "code",
   "execution_count": 8,
   "metadata": {},
   "outputs": [
    {
     "data": {
      "text/plain": [
       "matrix([[-630.82015911]])"
      ]
     },
     "execution_count": 8,
     "metadata": {},
     "output_type": "execute_result"
    }
   ],
   "source": [
    "ibm_model.ll"
   ]
  },
  {
   "cell_type": "code",
   "execution_count": 9,
   "metadata": {},
   "outputs": [
    {
     "data": {
      "text/plain": [
       "dict_keys(['size', 'mu', 'F', 'Q', 'R', 'beta00', 'P00'])"
      ]
     },
     "execution_count": 9,
     "metadata": {},
     "output_type": "execute_result"
    }
   ],
   "source": [
    "ibm_model.parameters.__dict__.keys()"
   ]
  },
  {
   "cell_type": "code",
   "execution_count": 10,
   "metadata": {},
   "outputs": [
    {
     "name": "stdout",
     "output_type": "stream",
     "text": [
      "this is the key:size\n",
      "this is the key:mu\n",
      "this is the key:F\n",
      "this is the key:Q\n",
      "this is the key:R\n",
      "this is the key:beta00\n",
      "this is the key:P00\n"
     ]
    }
   ],
   "source": [
    "for akey in list(ibm_model.parameters.__dict__.keys()):\n",
    "    print ('this is the key:'+akey)"
   ]
  },
  {
   "cell_type": "code",
   "execution_count": 11,
   "metadata": {},
   "outputs": [],
   "source": [
    "F = ibm_model.parameters.F"
   ]
  },
  {
   "cell_type": "code",
   "execution_count": 12,
   "metadata": {},
   "outputs": [
    {
     "data": {
      "text/plain": [
       "(4, 4)"
      ]
     },
     "execution_count": 12,
     "metadata": {},
     "output_type": "execute_result"
    }
   ],
   "source": [
    "np.shape(F)"
   ]
  },
  {
   "cell_type": "code",
   "execution_count": 14,
   "metadata": {
    "scrolled": true
   },
   "outputs": [
    {
     "data": {
      "text/plain": [
       "matrix([[0.63218146],\n",
       "        [0.85628559],\n",
       "        [0.32981306],\n",
       "        [0.98939182],\n",
       "        [0.69127342],\n",
       "        [0.99533619],\n",
       "        [0.46227985],\n",
       "        [0.10466464],\n",
       "        [0.18292136],\n",
       "        [0.05287674],\n",
       "        [0.71755215],\n",
       "        [0.75474602],\n",
       "        [0.44698632],\n",
       "        [0.84949786],\n",
       "        [0.19660595],\n",
       "        [0.85118139]])"
      ]
     },
     "execution_count": 14,
     "metadata": {},
     "output_type": "execute_result"
    }
   ],
   "source": [
    "np.reshape(F,(16,1),order='F')"
   ]
  },
  {
   "cell_type": "code",
   "execution_count": 16,
   "metadata": {},
   "outputs": [],
   "source": [
    "FF = np.reshape(F,(16,1),order='F')"
   ]
  },
  {
   "cell_type": "code",
   "execution_count": 17,
   "metadata": {},
   "outputs": [
    {
     "data": {
      "text/plain": [
       "matrix([[0.63218146, 0.69127342, 0.18292136, 0.44698632],\n",
       "        [0.85628559, 0.99533619, 0.05287674, 0.84949786],\n",
       "        [0.32981306, 0.46227985, 0.71755215, 0.19660595],\n",
       "        [0.98939182, 0.10466464, 0.75474602, 0.85118139]])"
      ]
     },
     "execution_count": 17,
     "metadata": {},
     "output_type": "execute_result"
    }
   ],
   "source": [
    "np.reshape(FF,(4,4),order='F')"
   ]
  },
  {
   "cell_type": "code",
   "execution_count": 18,
   "metadata": {},
   "outputs": [
    {
     "data": {
      "text/plain": [
       "matrix([[0.63218146],\n",
       "        [0.85628559],\n",
       "        [0.32981306],\n",
       "        [0.98939182],\n",
       "        [0.69127342],\n",
       "        [0.99533619],\n",
       "        [0.46227985],\n",
       "        [0.10466464],\n",
       "        [0.18292136],\n",
       "        [0.05287674],\n",
       "        [0.71755215],\n",
       "        [0.75474602],\n",
       "        [0.44698632],\n",
       "        [0.84949786],\n",
       "        [0.19660595],\n",
       "        [0.85118139]])"
      ]
     },
     "execution_count": 18,
     "metadata": {},
     "output_type": "execute_result"
    }
   ],
   "source": [
    "np.reshape(F,(-1,1),order='F')"
   ]
  },
  {
   "cell_type": "code",
   "execution_count": 19,
   "metadata": {},
   "outputs": [
    {
     "data": {
      "text/plain": [
       "matrix([], shape=(0, 1), dtype=float64)"
      ]
     },
     "execution_count": 19,
     "metadata": {},
     "output_type": "execute_result"
    }
   ],
   "source": [
    "np.matrix(np.zeros((0,1)))"
   ]
  },
  {
   "cell_type": "code",
   "execution_count": 20,
   "metadata": {},
   "outputs": [
    {
     "data": {
      "text/plain": [
       "matrix([[0.63218146],\n",
       "        [0.85628559],\n",
       "        [0.32981306],\n",
       "        [0.98939182],\n",
       "        [0.69127342],\n",
       "        [0.99533619],\n",
       "        [0.46227985],\n",
       "        [0.10466464],\n",
       "        [0.18292136],\n",
       "        [0.05287674],\n",
       "        [0.71755215],\n",
       "        [0.75474602],\n",
       "        [0.44698632],\n",
       "        [0.84949786],\n",
       "        [0.19660595],\n",
       "        [0.85118139]])"
      ]
     },
     "execution_count": 20,
     "metadata": {},
     "output_type": "execute_result"
    }
   ],
   "source": [
    "np.concatenate((np.matrix(np.zeros((0,1))),FF),axis=0)"
   ]
  },
  {
   "cell_type": "code",
   "execution_count": 21,
   "metadata": {},
   "outputs": [],
   "source": [
    "parnames = list(ibm_model.parameters.__dict__.keys())"
   ]
  },
  {
   "cell_type": "code",
   "execution_count": 22,
   "metadata": {},
   "outputs": [
    {
     "data": {
      "text/plain": [
       "['size', 'mu', 'F', 'Q', 'R', 'beta00', 'P00']"
      ]
     },
     "execution_count": 22,
     "metadata": {},
     "output_type": "execute_result"
    }
   ],
   "source": [
    "parnames"
   ]
  },
  {
   "cell_type": "code",
   "execution_count": 23,
   "metadata": {},
   "outputs": [],
   "source": [
    "parnames.remove('size')"
   ]
  },
  {
   "cell_type": "code",
   "execution_count": 24,
   "metadata": {},
   "outputs": [
    {
     "data": {
      "text/plain": [
       "['mu', 'F', 'Q', 'R', 'beta00', 'P00']"
      ]
     },
     "execution_count": 24,
     "metadata": {},
     "output_type": "execute_result"
    }
   ],
   "source": [
    "parnames"
   ]
  },
  {
   "cell_type": "code",
   "execution_count": 25,
   "metadata": {},
   "outputs": [],
   "source": [
    "parnames.sort()"
   ]
  },
  {
   "cell_type": "code",
   "execution_count": 26,
   "metadata": {},
   "outputs": [
    {
     "data": {
      "text/plain": [
       "['F', 'P00', 'Q', 'R', 'beta00', 'mu']"
      ]
     },
     "execution_count": 26,
     "metadata": {},
     "output_type": "execute_result"
    }
   ],
   "source": [
    "parnames"
   ]
  },
  {
   "cell_type": "code",
   "execution_count": null,
   "metadata": {},
   "outputs": [],
   "source": [
    "p = np.matrix(np.zeros((0,1)))\n",
    "for aname in parnames:\n",
    "    mtrx = ibm_model.parameters.aname\n",
    "    newmtrx = np.reshape(mtrx,(-1,1),order='F')\n",
    "    p = np.concatenate((p,newmtrx),axis=0)"
   ]
  },
  {
   "cell_type": "code",
   "execution_count": 27,
   "metadata": {},
   "outputs": [
    {
     "data": {
      "text/plain": [
       "matrix([[0.63218146, 0.69127342, 0.18292136, 0.44698632],\n",
       "        [0.85628559, 0.99533619, 0.05287674, 0.84949786],\n",
       "        [0.32981306, 0.46227985, 0.71755215, 0.19660595],\n",
       "        [0.98939182, 0.10466464, 0.75474602, 0.85118139]])"
      ]
     },
     "execution_count": 27,
     "metadata": {},
     "output_type": "execute_result"
    }
   ],
   "source": [
    "getattr(ibm_model.parameters,'F')"
   ]
  },
  {
   "cell_type": "code",
   "execution_count": 28,
   "metadata": {},
   "outputs": [],
   "source": [
    "whatevernameyouwant='F'"
   ]
  },
  {
   "cell_type": "code",
   "execution_count": 29,
   "metadata": {},
   "outputs": [
    {
     "data": {
      "text/plain": [
       "matrix([[0.63218146, 0.69127342, 0.18292136, 0.44698632],\n",
       "        [0.85628559, 0.99533619, 0.05287674, 0.84949786],\n",
       "        [0.32981306, 0.46227985, 0.71755215, 0.19660595],\n",
       "        [0.98939182, 0.10466464, 0.75474602, 0.85118139]])"
      ]
     },
     "execution_count": 29,
     "metadata": {},
     "output_type": "execute_result"
    }
   ],
   "source": [
    "getattr(ibm_model.parameters,whatevernameyouwant)"
   ]
  },
  {
   "cell_type": "code",
   "execution_count": 32,
   "metadata": {},
   "outputs": [],
   "source": [
    "p = np.matrix(np.zeros((0,1)))\n",
    "for aname in parnames:\n",
    "    mtrx = getattr(ibm_model.parameters,aname)\n",
    "    newmtrx = np.reshape(mtrx,(-1,1),order='F')\n",
    "    p = np.concatenate((p,newmtrx),axis=0)"
   ]
  }
 ],
 "metadata": {
  "kernelspec": {
   "display_name": "Python 3",
   "language": "python",
   "name": "python3"
  },
  "language_info": {
   "codemirror_mode": {
    "name": "ipython",
    "version": 3
   },
   "file_extension": ".py",
   "mimetype": "text/x-python",
   "name": "python",
   "nbconvert_exporter": "python",
   "pygments_lexer": "ipython3",
   "version": "3.6.5"
  }
 },
 "nbformat": 4,
 "nbformat_minor": 2
}
